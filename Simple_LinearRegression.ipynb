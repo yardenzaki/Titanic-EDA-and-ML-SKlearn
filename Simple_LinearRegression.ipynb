{
  "nbformat": 4,
  "nbformat_minor": 0,
  "metadata": {
    "colab": {
      "name": "Simple_LinearRegression.ipynb",
      "provenance": [],
      "toc_visible": true,
      "authorship_tag": "ABX9TyNdY6yPCb7ws75TAgzmG6Qq",
      "include_colab_link": true
    },
    "kernelspec": {
      "name": "python3",
      "display_name": "Python 3"
    },
    "language_info": {
      "name": "python"
    }
  },
  "cells": [
    {
      "cell_type": "markdown",
      "metadata": {
        "id": "view-in-github",
        "colab_type": "text"
      },
      "source": [
        "<a href=\"https://colab.research.google.com/github/yardenzaki/Titanic-EDA-and-ML-SKlearn/blob/main/Simple_LinearRegression.ipynb\" target=\"_parent\"><img src=\"https://colab.research.google.com/assets/colab-badge.svg\" alt=\"Open In Colab\"/></a>"
      ]
    },
    {
      "cell_type": "markdown",
      "source": [
        "# Simple linear regression test"
      ],
      "metadata": {
        "id": "S27e7-BQBt_i"
      }
    },
    {
      "cell_type": "code",
      "execution_count": 100,
      "metadata": {
        "id": "nbSHXsLbBq5i"
      },
      "outputs": [],
      "source": [
        "## impotrs\n",
        "import pandas as pd\n",
        "import numpy as np\n",
        "import seaborn as sns\n",
        "import random\n",
        "from matplotlib import pyplot as plt\n"
      ]
    },
    {
      "cell_type": "code",
      "source": [
        "#Y = 2*X + 3 with noise\n",
        "x = np.linspace(1,3*np.pi,300)\n",
        "y = np.sin(x)\n",
        "noise = np.random.uniform(-0.25,0.25,300)\n",
        "y += noise\n",
        "f' {y.mean()}'"
      ],
      "metadata": {
        "colab": {
          "base_uri": "https://localhost:8080/",
          "height": 36
        },
        "id": "RyR99oAtCsJ2",
        "outputId": "0cc774c6-8f3d-4ba2-c95b-bacdb30626a8"
      },
      "execution_count": 101,
      "outputs": [
        {
          "output_type": "execute_result",
          "data": {
            "text/plain": [
              "' 0.18227077684571863'"
            ],
            "application/vnd.google.colaboratory.intrinsic+json": {
              "type": "string"
            }
          },
          "metadata": {},
          "execution_count": 101
        }
      ]
    },
    {
      "cell_type": "code",
      "source": [
        "# splitting the model\n",
        "from sklearn.model_selection import train_test_split\n",
        "X_train, X_test, y_train, y_test = train_test_split(x,y,test_size=0.1, random_state=42)\n",
        "df = pd.DataFrame()\n",
        "df[\"X_train\"]=X_train\n",
        "df[\"X_test\"]=pd.Series(X_test)\n",
        "df[\"y_train\"]=y_train\n",
        "df[\"y_test\"]=pd.Series(y_test)\n",
        "\n",
        "X_test =X_test.reshape(-1,1)\n",
        "X_train =X_train.reshape(-1,1)\n",
        "y_test =y_test.reshape(-1,1)\n",
        "y_train =y_train.reshape(-1,1)\n",
        "df"
      ],
      "metadata": {
        "colab": {
          "base_uri": "https://localhost:8080/",
          "height": 423
        },
        "id": "kHzetYDXIt9k",
        "outputId": "bf16c84b-cc1f-463d-973e-aa6ed82bfcfb"
      },
      "execution_count": 102,
      "outputs": [
        {
          "output_type": "execute_result",
          "data": {
            "text/plain": [
              "      X_train    X_test   y_train    y_test\n",
              "0    1.479001  6.719833  1.223890  0.407325\n",
              "1    5.620948  8.494953 -0.772744  0.858382\n",
              "2    1.929825  5.282830  0.912575 -0.922205\n",
              "3    1.676236  1.253589  1.029718  0.908325\n",
              "4    7.057951  7.565128  0.910288  1.132818\n",
              "..        ...       ...       ...       ...\n",
              "265  6.297185       NaN  0.158607       NaN\n",
              "266  3.000533       NaN -0.089613       NaN\n",
              "267  3.986711       NaN -0.830341       NaN\n",
              "268  8.607659       NaN  0.959695       NaN\n",
              "269  3.874005       NaN -0.465381       NaN\n",
              "\n",
              "[270 rows x 4 columns]"
            ],
            "text/html": [
              "\n",
              "  <div id=\"df-6ab749ba-ce06-411c-81c9-410921895653\">\n",
              "    <div class=\"colab-df-container\">\n",
              "      <div>\n",
              "<style scoped>\n",
              "    .dataframe tbody tr th:only-of-type {\n",
              "        vertical-align: middle;\n",
              "    }\n",
              "\n",
              "    .dataframe tbody tr th {\n",
              "        vertical-align: top;\n",
              "    }\n",
              "\n",
              "    .dataframe thead th {\n",
              "        text-align: right;\n",
              "    }\n",
              "</style>\n",
              "<table border=\"1\" class=\"dataframe\">\n",
              "  <thead>\n",
              "    <tr style=\"text-align: right;\">\n",
              "      <th></th>\n",
              "      <th>X_train</th>\n",
              "      <th>X_test</th>\n",
              "      <th>y_train</th>\n",
              "      <th>y_test</th>\n",
              "    </tr>\n",
              "  </thead>\n",
              "  <tbody>\n",
              "    <tr>\n",
              "      <th>0</th>\n",
              "      <td>1.479001</td>\n",
              "      <td>6.719833</td>\n",
              "      <td>1.223890</td>\n",
              "      <td>0.407325</td>\n",
              "    </tr>\n",
              "    <tr>\n",
              "      <th>1</th>\n",
              "      <td>5.620948</td>\n",
              "      <td>8.494953</td>\n",
              "      <td>-0.772744</td>\n",
              "      <td>0.858382</td>\n",
              "    </tr>\n",
              "    <tr>\n",
              "      <th>2</th>\n",
              "      <td>1.929825</td>\n",
              "      <td>5.282830</td>\n",
              "      <td>0.912575</td>\n",
              "      <td>-0.922205</td>\n",
              "    </tr>\n",
              "    <tr>\n",
              "      <th>3</th>\n",
              "      <td>1.676236</td>\n",
              "      <td>1.253589</td>\n",
              "      <td>1.029718</td>\n",
              "      <td>0.908325</td>\n",
              "    </tr>\n",
              "    <tr>\n",
              "      <th>4</th>\n",
              "      <td>7.057951</td>\n",
              "      <td>7.565128</td>\n",
              "      <td>0.910288</td>\n",
              "      <td>1.132818</td>\n",
              "    </tr>\n",
              "    <tr>\n",
              "      <th>...</th>\n",
              "      <td>...</td>\n",
              "      <td>...</td>\n",
              "      <td>...</td>\n",
              "      <td>...</td>\n",
              "    </tr>\n",
              "    <tr>\n",
              "      <th>265</th>\n",
              "      <td>6.297185</td>\n",
              "      <td>NaN</td>\n",
              "      <td>0.158607</td>\n",
              "      <td>NaN</td>\n",
              "    </tr>\n",
              "    <tr>\n",
              "      <th>266</th>\n",
              "      <td>3.000533</td>\n",
              "      <td>NaN</td>\n",
              "      <td>-0.089613</td>\n",
              "      <td>NaN</td>\n",
              "    </tr>\n",
              "    <tr>\n",
              "      <th>267</th>\n",
              "      <td>3.986711</td>\n",
              "      <td>NaN</td>\n",
              "      <td>-0.830341</td>\n",
              "      <td>NaN</td>\n",
              "    </tr>\n",
              "    <tr>\n",
              "      <th>268</th>\n",
              "      <td>8.607659</td>\n",
              "      <td>NaN</td>\n",
              "      <td>0.959695</td>\n",
              "      <td>NaN</td>\n",
              "    </tr>\n",
              "    <tr>\n",
              "      <th>269</th>\n",
              "      <td>3.874005</td>\n",
              "      <td>NaN</td>\n",
              "      <td>-0.465381</td>\n",
              "      <td>NaN</td>\n",
              "    </tr>\n",
              "  </tbody>\n",
              "</table>\n",
              "<p>270 rows × 4 columns</p>\n",
              "</div>\n",
              "      <button class=\"colab-df-convert\" onclick=\"convertToInteractive('df-6ab749ba-ce06-411c-81c9-410921895653')\"\n",
              "              title=\"Convert this dataframe to an interactive table.\"\n",
              "              style=\"display:none;\">\n",
              "        \n",
              "  <svg xmlns=\"http://www.w3.org/2000/svg\" height=\"24px\"viewBox=\"0 0 24 24\"\n",
              "       width=\"24px\">\n",
              "    <path d=\"M0 0h24v24H0V0z\" fill=\"none\"/>\n",
              "    <path d=\"M18.56 5.44l.94 2.06.94-2.06 2.06-.94-2.06-.94-.94-2.06-.94 2.06-2.06.94zm-11 1L8.5 8.5l.94-2.06 2.06-.94-2.06-.94L8.5 2.5l-.94 2.06-2.06.94zm10 10l.94 2.06.94-2.06 2.06-.94-2.06-.94-.94-2.06-.94 2.06-2.06.94z\"/><path d=\"M17.41 7.96l-1.37-1.37c-.4-.4-.92-.59-1.43-.59-.52 0-1.04.2-1.43.59L10.3 9.45l-7.72 7.72c-.78.78-.78 2.05 0 2.83L4 21.41c.39.39.9.59 1.41.59.51 0 1.02-.2 1.41-.59l7.78-7.78 2.81-2.81c.8-.78.8-2.07 0-2.86zM5.41 20L4 18.59l7.72-7.72 1.47 1.35L5.41 20z\"/>\n",
              "  </svg>\n",
              "      </button>\n",
              "      \n",
              "  <style>\n",
              "    .colab-df-container {\n",
              "      display:flex;\n",
              "      flex-wrap:wrap;\n",
              "      gap: 12px;\n",
              "    }\n",
              "\n",
              "    .colab-df-convert {\n",
              "      background-color: #E8F0FE;\n",
              "      border: none;\n",
              "      border-radius: 50%;\n",
              "      cursor: pointer;\n",
              "      display: none;\n",
              "      fill: #1967D2;\n",
              "      height: 32px;\n",
              "      padding: 0 0 0 0;\n",
              "      width: 32px;\n",
              "    }\n",
              "\n",
              "    .colab-df-convert:hover {\n",
              "      background-color: #E2EBFA;\n",
              "      box-shadow: 0px 1px 2px rgba(60, 64, 67, 0.3), 0px 1px 3px 1px rgba(60, 64, 67, 0.15);\n",
              "      fill: #174EA6;\n",
              "    }\n",
              "\n",
              "    [theme=dark] .colab-df-convert {\n",
              "      background-color: #3B4455;\n",
              "      fill: #D2E3FC;\n",
              "    }\n",
              "\n",
              "    [theme=dark] .colab-df-convert:hover {\n",
              "      background-color: #434B5C;\n",
              "      box-shadow: 0px 1px 3px 1px rgba(0, 0, 0, 0.15);\n",
              "      filter: drop-shadow(0px 1px 2px rgba(0, 0, 0, 0.3));\n",
              "      fill: #FFFFFF;\n",
              "    }\n",
              "  </style>\n",
              "\n",
              "      <script>\n",
              "        const buttonEl =\n",
              "          document.querySelector('#df-6ab749ba-ce06-411c-81c9-410921895653 button.colab-df-convert');\n",
              "        buttonEl.style.display =\n",
              "          google.colab.kernel.accessAllowed ? 'block' : 'none';\n",
              "\n",
              "        async function convertToInteractive(key) {\n",
              "          const element = document.querySelector('#df-6ab749ba-ce06-411c-81c9-410921895653');\n",
              "          const dataTable =\n",
              "            await google.colab.kernel.invokeFunction('convertToInteractive',\n",
              "                                                     [key], {});\n",
              "          if (!dataTable) return;\n",
              "\n",
              "          const docLinkHtml = 'Like what you see? Visit the ' +\n",
              "            '<a target=\"_blank\" href=https://colab.research.google.com/notebooks/data_table.ipynb>data table notebook</a>'\n",
              "            + ' to learn more about interactive tables.';\n",
              "          element.innerHTML = '';\n",
              "          dataTable['output_type'] = 'display_data';\n",
              "          await google.colab.output.renderOutput(dataTable, element);\n",
              "          const docLink = document.createElement('div');\n",
              "          docLink.innerHTML = docLinkHtml;\n",
              "          element.appendChild(docLink);\n",
              "        }\n",
              "      </script>\n",
              "    </div>\n",
              "  </div>\n",
              "  "
            ]
          },
          "metadata": {},
          "execution_count": 102
        }
      ]
    },
    {
      "cell_type": "code",
      "source": [
        "sns.scatterplot(df[\"X_train\"],df[\"y_train\"],data=df)\n",
        "sns.scatterplot(df[\"X_test\"],df[\"y_test\"],data=df)\n"
      ],
      "metadata": {
        "colab": {
          "base_uri": "https://localhost:8080/",
          "height": 392
        },
        "id": "5uQnTIWKl09A",
        "outputId": "7625c953-ac49-4296-eda7-d7ab11390e77"
      },
      "execution_count": 103,
      "outputs": [
        {
          "output_type": "stream",
          "name": "stderr",
          "text": [
            "/usr/local/lib/python3.7/dist-packages/seaborn/_decorators.py:43: FutureWarning: Pass the following variables as keyword args: x, y. From version 0.12, the only valid positional argument will be `data`, and passing other arguments without an explicit keyword will result in an error or misinterpretation.\n",
            "  FutureWarning\n",
            "/usr/local/lib/python3.7/dist-packages/seaborn/_decorators.py:43: FutureWarning: Pass the following variables as keyword args: x, y. From version 0.12, the only valid positional argument will be `data`, and passing other arguments without an explicit keyword will result in an error or misinterpretation.\n",
            "  FutureWarning\n"
          ]
        },
        {
          "output_type": "execute_result",
          "data": {
            "text/plain": [
              "<matplotlib.axes._subplots.AxesSubplot at 0x7f3956d13510>"
            ]
          },
          "metadata": {},
          "execution_count": 103
        },
        {
          "output_type": "display_data",
          "data": {
            "text/plain": [
              "<Figure size 432x288 with 1 Axes>"
            ],
            "image/png": "[encoded data removed]"
          },
          "metadata": {
            "needs_background": "light"
          }
        }
      ]
    },
    {
      "cell_type": "code",
      "source": [
        "#Normalizing  using pipelime and StandardScaler (could use StandardScaler only... )\n",
        "from sklearn.pipeline import Pipeline\n",
        "from sklearn.preprocessing import StandardScaler\n",
        "\n",
        "X_train_pipe = Pipeline([('scaler', StandardScaler())]) ##Those two preprocessing steps happened in sequence, and that's how Sklearn pipeline works.\n",
        "X_test_pipe = Pipeline([('scaler', StandardScaler())]) ##Those two preprocessing steps happened in sequence, and that's how Sklearn pipeline works.\n",
        "\n",
        "X_train_preprocessed = X_train_pipe.fit_transform(X_train)\n",
        "X_test_preprocessed = X_test_pipe.fit_transform(X_test)\n",
        "\n",
        "#print(X_train_preprocessed)\n"
      ],
      "metadata": {
        "id": "aDkxa3l5S0PG"
      },
      "execution_count": 104,
      "outputs": []
    },
    {
      "cell_type": "code",
      "source": [
        "# defining the linear regression model\n",
        "from sklearn.linear_model import LinearRegression\n",
        "lr =LinearRegression()\n"
      ],
      "metadata": {
        "id": "3CnhCRJPJQe1"
      },
      "execution_count": 105,
      "outputs": []
    },
    {
      "cell_type": "code",
      "source": [
        "#fit\n",
        "lr.fit(X_train,y_train) # train"
      ],
      "metadata": {
        "colab": {
          "base_uri": "https://localhost:8080/"
        },
        "id": "CGkVoTVAJom1",
        "outputId": "57ca9cf6-c18c-4aa8-fbcd-24e6cc8d971f"
      },
      "execution_count": 106,
      "outputs": [
        {
          "output_type": "execute_result",
          "data": {
            "text/plain": [
              "LinearRegression()"
            ]
          },
          "metadata": {},
          "execution_count": 106
        }
      ]
    },
    {
      "cell_type": "code",
      "source": [
        "# Weights and bias\n",
        "lr.coef_\n"
      ],
      "metadata": {
        "colab": {
          "base_uri": "https://localhost:8080/"
        },
        "id": "7GYeqy-lKz0o",
        "outputId": "5a39513d-d90c-4b37-c9a2-e2333dbbdd3f"
      },
      "execution_count": 107,
      "outputs": [
        {
          "output_type": "execute_result",
          "data": {
            "text/plain": [
              "array([[0.01046992]])"
            ]
          },
          "metadata": {},
          "execution_count": 107
        }
      ]
    },
    {
      "cell_type": "code",
      "source": [
        "lr.intercept_"
      ],
      "metadata": {
        "colab": {
          "base_uri": "https://localhost:8080/"
        },
        "id": "Z_Ab64LyK6wN",
        "outputId": "7afe336d-7e12-45f1-c603-35315b1a20c3"
      },
      "execution_count": 108,
      "outputs": [
        {
          "output_type": "execute_result",
          "data": {
            "text/plain": [
              "array([0.11676238])"
            ]
          },
          "metadata": {},
          "execution_count": 108
        }
      ]
    },
    {
      "cell_type": "code",
      "source": [
        "# predict:\n",
        "from sklearn.metrics import mean_squared_error\n",
        "\n",
        "y_hat = lr.predict(X_test)\n",
        "df[\"y_hat\"] = pd.Series(y_hat.flatten())\n",
        "df"
      ],
      "metadata": {
        "colab": {
          "base_uri": "https://localhost:8080/",
          "height": 423
        },
        "id": "x5OPWX1XPA_5",
        "outputId": "ee8c2167-3de7-4070-cd7b-be7bbb67a46b"
      },
      "execution_count": 109,
      "outputs": [
        {
          "output_type": "execute_result",
          "data": {
            "text/plain": [
              "      X_train    X_test   y_train    y_test     y_hat\n",
              "0    1.479001  6.719833  1.223890  0.407325  0.187118\n",
              "1    5.620948  8.494953 -0.772744  0.858382  0.205704\n",
              "2    1.929825  5.282830  0.912575 -0.922205  0.172073\n",
              "3    1.676236  1.253589  1.029718  0.908325  0.129887\n",
              "4    7.057951  7.565128  0.910288  1.132818  0.195969\n",
              "..        ...       ...       ...       ...       ...\n",
              "265  6.297185       NaN  0.158607       NaN       NaN\n",
              "266  3.000533       NaN -0.089613       NaN       NaN\n",
              "267  3.986711       NaN -0.830341       NaN       NaN\n",
              "268  8.607659       NaN  0.959695       NaN       NaN\n",
              "269  3.874005       NaN -0.465381       NaN       NaN\n",
              "\n",
              "[270 rows x 5 columns]"
            ],
            "text/html": [
              "\n",
              "  <div id=\"df-df6af581-25d1-4ba1-ba3d-fc57b2f2ee26\">\n",
              "    <div class=\"colab-df-container\">\n",
              "      <div>\n",
              "<style scoped>\n",
              "    .dataframe tbody tr th:only-of-type {\n",
              "        vertical-align: middle;\n",
              "    }\n",
              "\n",
              "    .dataframe tbody tr th {\n",
              "        vertical-align: top;\n",
              "    }\n",
              "\n",
              "    .dataframe thead th {\n",
              "        text-align: right;\n",
              "    }\n",
              "</style>\n",
              "<table border=\"1\" class=\"dataframe\">\n",
              "  <thead>\n",
              "    <tr style=\"text-align: right;\">\n",
              "      <th></th>\n",
              "      <th>X_train</th>\n",
              "      <th>X_test</th>\n",
              "      <th>y_train</th>\n",
              "      <th>y_test</th>\n",
              "      <th>y_hat</th>\n",
              "    </tr>\n",
              "  </thead>\n",
              "  <tbody>\n",
              "    <tr>\n",
              "      <th>0</th>\n",
              "      <td>1.479001</td>\n",
              "      <td>6.719833</td>\n",
              "      <td>1.223890</td>\n",
              "      <td>0.407325</td>\n",
              "      <td>0.187118</td>\n",
              "    </tr>\n",
              "    <tr>\n",
              "      <th>1</th>\n",
              "      <td>5.620948</td>\n",
              "      <td>8.494953</td>\n",
              "      <td>-0.772744</td>\n",
              "      <td>0.858382</td>\n",
              "      <td>0.205704</td>\n",
              "    </tr>\n",
              "    <tr>\n",
              "      <th>2</th>\n",
              "      <td>1.929825</td>\n",
              "      <td>5.282830</td>\n",
              "      <td>0.912575</td>\n",
              "      <td>-0.922205</td>\n",
              "      <td>0.172073</td>\n",
              "    </tr>\n",
              "    <tr>\n",
              "      <th>3</th>\n",
              "      <td>1.676236</td>\n",
              "      <td>1.253589</td>\n",
              "      <td>1.029718</td>\n",
              "      <td>0.908325</td>\n",
              "      <td>0.129887</td>\n",
              "    </tr>\n",
              "    <tr>\n",
              "      <th>4</th>\n",
              "      <td>7.057951</td>\n",
              "      <td>7.565128</td>\n",
              "      <td>0.910288</td>\n",
              "      <td>1.132818</td>\n",
              "      <td>0.195969</td>\n",
              "    </tr>\n",
              "    <tr>\n",
              "      <th>...</th>\n",
              "      <td>...</td>\n",
              "      <td>...</td>\n",
              "      <td>...</td>\n",
              "      <td>...</td>\n",
              "      <td>...</td>\n",
              "    </tr>\n",
              "    <tr>\n",
              "      <th>265</th>\n",
              "      <td>6.297185</td>\n",
              "      <td>NaN</td>\n",
              "      <td>0.158607</td>\n",
              "      <td>NaN</td>\n",
              "      <td>NaN</td>\n",
              "    </tr>\n",
              "    <tr>\n",
              "      <th>266</th>\n",
              "      <td>3.000533</td>\n",
              "      <td>NaN</td>\n",
              "      <td>-0.089613</td>\n",
              "      <td>NaN</td>\n",
              "      <td>NaN</td>\n",
              "    </tr>\n",
              "    <tr>\n",
              "      <th>267</th>\n",
              "      <td>3.986711</td>\n",
              "      <td>NaN</td>\n",
              "      <td>-0.830341</td>\n",
              "      <td>NaN</td>\n",
              "      <td>NaN</td>\n",
              "    </tr>\n",
              "    <tr>\n",
              "      <th>268</th>\n",
              "      <td>8.607659</td>\n",
              "      <td>NaN</td>\n",
              "      <td>0.959695</td>\n",
              "      <td>NaN</td>\n",
              "      <td>NaN</td>\n",
              "    </tr>\n",
              "    <tr>\n",
              "      <th>269</th>\n",
              "      <td>3.874005</td>\n",
              "      <td>NaN</td>\n",
              "      <td>-0.465381</td>\n",
              "      <td>NaN</td>\n",
              "      <td>NaN</td>\n",
              "    </tr>\n",
              "  </tbody>\n",
              "</table>\n",
              "<p>270 rows × 5 columns</p>\n",
              "</div>\n",
              "      <button class=\"colab-df-convert\" onclick=\"convertToInteractive('df-df6af581-25d1-4ba1-ba3d-fc57b2f2ee26')\"\n",
              "              title=\"Convert this dataframe to an interactive table.\"\n",
              "              style=\"display:none;\">\n",
              "        \n",
              "  <svg xmlns=\"http://www.w3.org/2000/svg\" height=\"24px\"viewBox=\"0 0 24 24\"\n",
              "       width=\"24px\">\n",
              "    <path d=\"M0 0h24v24H0V0z\" fill=\"none\"/>\n",
              "    <path d=\"M18.56 5.44l.94 2.06.94-2.06 2.06-.94-2.06-.94-.94-2.06-.94 2.06-2.06.94zm-11 1L8.5 8.5l.94-2.06 2.06-.94-2.06-.94L8.5 2.5l-.94 2.06-2.06.94zm10 10l.94 2.06.94-2.06 2.06-.94-2.06-.94-.94-2.06-.94 2.06-2.06.94z\"/><path d=\"M17.41 7.96l-1.37-1.37c-.4-.4-.92-.59-1.43-.59-.52 0-1.04.2-1.43.59L10.3 9.45l-7.72 7.72c-.78.78-.78 2.05 0 2.83L4 21.41c.39.39.9.59 1.41.59.51 0 1.02-.2 1.41-.59l7.78-7.78 2.81-2.81c.8-.78.8-2.07 0-2.86zM5.41 20L4 18.59l7.72-7.72 1.47 1.35L5.41 20z\"/>\n",
              "  </svg>\n",
              "      </button>\n",
              "      \n",
              "  <style>\n",
              "    .colab-df-container {\n",
              "      display:flex;\n",
              "      flex-wrap:wrap;\n",
              "      gap: 12px;\n",
              "    }\n",
              "\n",
              "    .colab-df-convert {\n",
              "      background-color: #E8F0FE;\n",
              "      border: none;\n",
              "      border-radius: 50%;\n",
              "      cursor: pointer;\n",
              "      display: none;\n",
              "      fill: #1967D2;\n",
              "      height: 32px;\n",
              "      padding: 0 0 0 0;\n",
              "      width: 32px;\n",
              "    }\n",
              "\n",
              "    .colab-df-convert:hover {\n",
              "      background-color: #E2EBFA;\n",
              "      box-shadow: 0px 1px 2px rgba(60, 64, 67, 0.3), 0px 1px 3px 1px rgba(60, 64, 67, 0.15);\n",
              "      fill: #174EA6;\n",
              "    }\n",
              "\n",
              "    [theme=dark] .colab-df-convert {\n",
              "      background-color: #3B4455;\n",
              "      fill: #D2E3FC;\n",
              "    }\n",
              "\n",
              "    [theme=dark] .colab-df-convert:hover {\n",
              "      background-color: #434B5C;\n",
              "      box-shadow: 0px 1px 3px 1px rgba(0, 0, 0, 0.15);\n",
              "      filter: drop-shadow(0px 1px 2px rgba(0, 0, 0, 0.3));\n",
              "      fill: #FFFFFF;\n",
              "    }\n",
              "  </style>\n",
              "\n",
              "      <script>\n",
              "        const buttonEl =\n",
              "          document.querySelector('#df-df6af581-25d1-4ba1-ba3d-fc57b2f2ee26 button.colab-df-convert');\n",
              "        buttonEl.style.display =\n",
              "          google.colab.kernel.accessAllowed ? 'block' : 'none';\n",
              "\n",
              "        async function convertToInteractive(key) {\n",
              "          const element = document.querySelector('#df-df6af581-25d1-4ba1-ba3d-fc57b2f2ee26');\n",
              "          const dataTable =\n",
              "            await google.colab.kernel.invokeFunction('convertToInteractive',\n",
              "                                                     [key], {});\n",
              "          if (!dataTable) return;\n",
              "\n",
              "          const docLinkHtml = 'Like what you see? Visit the ' +\n",
              "            '<a target=\"_blank\" href=https://colab.research.google.com/notebooks/data_table.ipynb>data table notebook</a>'\n",
              "            + ' to learn more about interactive tables.';\n",
              "          element.innerHTML = '';\n",
              "          dataTable['output_type'] = 'display_data';\n",
              "          await google.colab.output.renderOutput(dataTable, element);\n",
              "          const docLink = document.createElement('div');\n",
              "          docLink.innerHTML = docLinkHtml;\n",
              "          element.appendChild(docLink);\n",
              "        }\n",
              "      </script>\n",
              "    </div>\n",
              "  </div>\n",
              "  "
            ]
          },
          "metadata": {},
          "execution_count": 109
        }
      ]
    },
    {
      "cell_type": "code",
      "source": [
        ""
      ],
      "metadata": {
        "id": "WoprHDOrrYv7"
      },
      "execution_count": 109,
      "outputs": []
    },
    {
      "cell_type": "code",
      "source": [
        "# get prediction error \n",
        "mse = mean_squared_error(y_test, y_hat)\n",
        "print(y_train.mean())\n",
        "rmse = np.sqrt(mse)\n",
        "rmse "
      ],
      "metadata": {
        "colab": {
          "base_uri": "https://localhost:8080/"
        },
        "id": "Z1yRQ7xCPQ1Y",
        "outputId": "c6febfdd-e5d7-4590-f505-d1e5283b2e7e"
      },
      "execution_count": 110,
      "outputs": [
        {
          "output_type": "stream",
          "name": "stdout",
          "text": [
            "0.17060471846135533\n"
          ]
        },
        {
          "output_type": "execute_result",
          "data": {
            "text/plain": [
              "0.7179725761054857"
            ]
          },
          "metadata": {},
          "execution_count": 110
        }
      ]
    },
    {
      "cell_type": "code",
      "source": [
        "# cross val score\n",
        "from sklearn.model_selection import cross_val_score\n",
        "\n",
        "scoring = 'neg_root_mean_squared_error'\n",
        "\n",
        "scores = cross_val_score(lr, X_train, y_train, scoring=scoring, cv=10)\n",
        "# You can use `metrics.SCORERS.keys()` to display the metrics scoring that you can use.\n",
        "\n",
        "from sklearn import metrics\n",
        "print(metrics.SCORERS.keys())\n",
        "scores = -scores # The returned scores are negative. Let's make it positive.\n",
        "\n",
        "print(scores)\n",
        "scores.mean()"
      ],
      "metadata": {
        "colab": {
          "base_uri": "https://localhost:8080/"
        },
        "id": "WxEFtlIrMIdn",
        "outputId": "4bb4ab76-252d-4cbe-da7f-59a85b04777b"
      },
      "execution_count": 111,
      "outputs": [
        {
          "output_type": "stream",
          "name": "stdout",
          "text": [
            "dict_keys(['explained_variance', 'r2', 'max_error', 'neg_median_absolute_error', 'neg_mean_absolute_error', 'neg_mean_absolute_percentage_error', 'neg_mean_squared_error', 'neg_mean_squared_log_error', 'neg_root_mean_squared_error', 'neg_mean_poisson_deviance', 'neg_mean_gamma_deviance', 'accuracy', 'top_k_accuracy', 'roc_auc', 'roc_auc_ovr', 'roc_auc_ovo', 'roc_auc_ovr_weighted', 'roc_auc_ovo_weighted', 'balanced_accuracy', 'average_precision', 'neg_log_loss', 'neg_brier_score', 'adjusted_rand_score', 'rand_score', 'homogeneity_score', 'completeness_score', 'v_measure_score', 'mutual_info_score', 'adjusted_mutual_info_score', 'normalized_mutual_info_score', 'fowlkes_mallows_score', 'precision', 'precision_macro', 'precision_micro', 'precision_samples', 'precision_weighted', 'recall', 'recall_macro', 'recall_micro', 'recall_samples', 'recall_weighted', 'f1', 'f1_macro', 'f1_micro', 'f1_samples', 'f1_weighted', 'jaccard', 'jaccard_macro', 'jaccard_micro', 'jaccard_samples', 'jaccard_weighted'])\n",
            "[0.67760828 0.6787909  0.74695797 0.72368796 0.75621457 0.67939184\n",
            " 0.7200887  0.69591258 0.72337723 0.74175192]\n"
          ]
        },
        {
          "output_type": "execute_result",
          "data": {
            "text/plain": [
              "0.7143781956395321"
            ]
          },
          "metadata": {},
          "execution_count": 111
        }
      ]
    },
    {
      "cell_type": "code",
      "source": [
        "from sklearn.model_selection import cross_val_predict\n",
        "\n",
        "y_hat = cross_val_predict(lr, X_train, y_train, cv=30)\n",
        "df[\"y_hat_CV\"] = y_hat\n",
        "# get prediction error \n",
        "mse = mean_squared_error(y_train, y_hat)\n",
        "print(y_train.mean())\n",
        "rmse = np.sqrt(mse)\n",
        "rmse "
      ],
      "metadata": {
        "colab": {
          "base_uri": "https://localhost:8080/"
        },
        "id": "0XLFYqEcOp18",
        "outputId": "81271d61-4768-4866-e0ca-18c5787837ed"
      },
      "execution_count": 112,
      "outputs": [
        {
          "output_type": "stream",
          "name": "stdout",
          "text": [
            "0.17060471846135533\n"
          ]
        },
        {
          "output_type": "execute_result",
          "data": {
            "text/plain": [
              "0.7170099502211715"
            ]
          },
          "metadata": {},
          "execution_count": 112
        }
      ]
    },
    {
      "cell_type": "code",
      "source": [
        "df.info()"
      ],
      "metadata": {
        "colab": {
          "base_uri": "https://localhost:8080/"
        },
        "id": "W0kKcK9ps2IB",
        "outputId": "42caf957-f823-43a2-966c-4752a2a7f228"
      },
      "execution_count": 113,
      "outputs": [
        {
          "output_type": "stream",
          "name": "stdout",
          "text": [
            "<class 'pandas.core.frame.DataFrame'>\n",
            "RangeIndex: 270 entries, 0 to 269\n",
            "Data columns (total 6 columns):\n",
            " #   Column    Non-Null Count  Dtype  \n",
            "---  ------    --------------  -----  \n",
            " 0   X_train   270 non-null    float64\n",
            " 1   X_test    30 non-null     float64\n",
            " 2   y_train   270 non-null    float64\n",
            " 3   y_test    30 non-null     float64\n",
            " 4   y_hat     30 non-null     float64\n",
            " 5   y_hat_CV  270 non-null    float64\n",
            "dtypes: float64(6)\n",
            "memory usage: 12.8 KB\n"
          ]
        }
      ]
    },
    {
      "cell_type": "code",
      "source": [
        "%matplotlib inline\n",
        "plt.figure(figsize=(15,15))\n",
        "plt.scatter(df[\"X_train\"],df[\"y_train\"],label = \"Train\")\n",
        "plt.scatter(df[\"X_train\"],df[\"y_hat_CV\"],label = \"CV pred\" )\n",
        "\n",
        "plt.scatter(df[\"X_test\"],df[\"y_hat\"],label = \"lin-reg pred\" )\n",
        "\n",
        "plt.scatter(df[\"X_test\"],df[\"y_test\"],label =\"Test\")\n",
        "plt.legend()\n",
        "plt.show()\n"
      ],
      "metadata": {
        "colab": {
          "base_uri": "https://localhost:8080/",
          "height": 863
        },
        "id": "_acy0lg6tnhZ",
        "outputId": "6836d224-2461-4b2e-96eb-54efb9019e26"
      },
      "execution_count": 114,
      "outputs": [
        {
          "output_type": "display_data",
          "data": {
            "text/plain": [
              "<Figure size 1080x1080 with 1 Axes>"
            ],
            "image/png": "[encoded data removed]"
          },
          "metadata": {
            "needs_background": "light"
          }
        }
      ]
    },
    {
      "cell_type": "code",
      "source": [
        "# Try regression with Random forest\n",
        "from sklearn.ensemble import RandomForestRegressor\n",
        "\n",
        "forest_reg = RandomForestRegressor(min_samples_split=2,bootstrap=False, random_state=42,n_jobs=-1)\n",
        "\n",
        "forest_reg.fit(X_train, y_train)"
      ],
      "metadata": {
        "colab": {
          "base_uri": "https://localhost:8080/"
        },
        "id": "r00-A5jeVWg-",
        "outputId": "1ca33c52-7486-493f-d323-61836ad4fbfd"
      },
      "execution_count": 115,
      "outputs": [
        {
          "output_type": "stream",
          "name": "stderr",
          "text": [
            "/usr/local/lib/python3.7/dist-packages/ipykernel_launcher.py:6: DataConversionWarning: A column-vector y was passed when a 1d array was expected. Please change the shape of y to (n_samples,), for example using ravel().\n",
            "  \n"
          ]
        },
        {
          "output_type": "execute_result",
          "data": {
            "text/plain": [
              "RandomForestRegressor(bootstrap=False, n_jobs=-1, random_state=42)"
            ]
          },
          "metadata": {},
          "execution_count": 115
        }
      ]
    },
    {
      "cell_type": "code",
      "source": [
        "#Evaluate thr tree\n",
        "from sklearn.metrics import mean_squared_error\n",
        "y_val_forest = forest_reg.predict(X_train)\n",
        "y_hat = forest_reg.predict(X_test)\n",
        "df[\"y_hat_forest\"]=pd.Series(y_hat)\n",
        "df[\"y_val_forest\"]=pd.Series(y_val_forest)\n",
        "# print(y_hat)\n",
        "# print(y_train)\n",
        "\n",
        "\n",
        "mse = mean_squared_error(y_test,y_hat)\n",
        "rmse = np.sqrt(mse)\n",
        "rmse"
      ],
      "metadata": {
        "colab": {
          "base_uri": "https://localhost:8080/"
        },
        "id": "FcPqFIBPWdbd",
        "outputId": "7d0ef598-e1a1-4191-8dd7-2105a0e57958"
      },
      "execution_count": 116,
      "outputs": [
        {
          "output_type": "execute_result",
          "data": {
            "text/plain": [
              "0.19908020626753561"
            ]
          },
          "metadata": {},
          "execution_count": 116
        }
      ]
    },
    {
      "cell_type": "code",
      "source": [
        "\n",
        "# improving forest\n",
        "forest_reg.get_params()"
      ],
      "metadata": {
        "colab": {
          "base_uri": "https://localhost:8080/"
        },
        "id": "1yjEMQrQuhOk",
        "outputId": "8c575d7f-cc1f-4fff-8d86-825f062b3433"
      },
      "execution_count": 117,
      "outputs": [
        {
          "output_type": "execute_result",
          "data": {
            "text/plain": [
              "{'bootstrap': False,\n",
              " 'ccp_alpha': 0.0,\n",
              " 'criterion': 'squared_error',\n",
              " 'max_depth': None,\n",
              " 'max_features': 'auto',\n",
              " 'max_leaf_nodes': None,\n",
              " 'max_samples': None,\n",
              " 'min_impurity_decrease': 0.0,\n",
              " 'min_samples_leaf': 1,\n",
              " 'min_samples_split': 2,\n",
              " 'min_weight_fraction_leaf': 0.0,\n",
              " 'n_estimators': 100,\n",
              " 'n_jobs': -1,\n",
              " 'oob_score': False,\n",
              " 'random_state': 42,\n",
              " 'verbose': 0,\n",
              " 'warm_start': False}"
            ]
          },
          "metadata": {},
          "execution_count": 117
        }
      ]
    },
    {
      "cell_type": "code",
      "source": [
        "\n",
        "\n",
        "from sklearn.model_selection import GridSearchCV\n",
        "\n",
        "params_grid = {\n",
        "    'n_estimators':[100,200,300,400,500],\n",
        "    'max_leaf_nodes':list(range(0,20))}\n",
        "\n",
        "#refit is true by default. The best estimator is trained on the whole dataset \n",
        "\n",
        "grid_search = GridSearchCV(RandomForestRegressor(min_samples_split=2,bootstrap=False,random_state=42), params_grid, verbose=1, cv=5)\n",
        "\n",
        "grid_search.fit(X_train, y_train.ravel())"
      ],
      "metadata": {
        "id": "wUouK0P4YgmT",
        "colab": {
          "base_uri": "https://localhost:8080/"
        },
        "outputId": "53d22991-1ea1-40cf-d425-69191ffac46e"
      },
      "execution_count": 118,
      "outputs": [
        {
          "output_type": "stream",
          "name": "stdout",
          "text": [
            "Fitting 5 folds for each of 100 candidates, totalling 500 fits\n"
          ]
        },
        {
          "output_type": "stream",
          "name": "stderr",
          "text": [
            "/usr/local/lib/python3.7/dist-packages/sklearn/model_selection/_validation.py:372: FitFailedWarning: \n",
            "50 fits failed out of a total of 500.\n",
            "The score on these train-test partitions for these parameters will be set to nan.\n",
            "If these failures are not expected, you can try to debug them by setting error_score='raise'.\n",
            "\n",
            "Below are more details about the failures:\n",
            "--------------------------------------------------------------------------------\n",
            "25 fits failed with the following error:\n",
            "Traceback (most recent call last):\n",
            "  File \"/usr/local/lib/python3.7/dist-packages/sklearn/model_selection/_validation.py\", line 680, in _fit_and_score\n",
            "    estimator.fit(X_train, y_train, **fit_params)\n",
            "  File \"/usr/local/lib/python3.7/dist-packages/sklearn/ensemble/_forest.py\", line 467, in fit\n",
            "    for i, t in enumerate(trees)\n",
            "  File \"/usr/local/lib/python3.7/dist-packages/joblib/parallel.py\", line 1043, in __call__\n",
            "    if self.dispatch_one_batch(iterator):\n",
            "  File \"/usr/local/lib/python3.7/dist-packages/joblib/parallel.py\", line 861, in dispatch_one_batch\n",
            "    self._dispatch(tasks)\n",
            "  File \"/usr/local/lib/python3.7/dist-packages/joblib/parallel.py\", line 779, in _dispatch\n",
            "    job = self._backend.apply_async(batch, callback=cb)\n",
            "  File \"/usr/local/lib/python3.7/dist-packages/joblib/_parallel_backends.py\", line 208, in apply_async\n",
            "    result = ImmediateResult(func)\n",
            "  File \"/usr/local/lib/python3.7/dist-packages/joblib/_parallel_backends.py\", line 572, in __init__\n",
            "    self.results = batch()\n",
            "  File \"/usr/local/lib/python3.7/dist-packages/joblib/parallel.py\", line 263, in __call__\n",
            "    for func, args, kwargs in self.items]\n",
            "  File \"/usr/local/lib/python3.7/dist-packages/joblib/parallel.py\", line 263, in <listcomp>\n",
            "    for func, args, kwargs in self.items]\n",
            "  File \"/usr/local/lib/python3.7/dist-packages/sklearn/utils/fixes.py\", line 216, in __call__\n",
            "    return self.function(*args, **kwargs)\n",
            "  File \"/usr/local/lib/python3.7/dist-packages/sklearn/ensemble/_forest.py\", line 187, in _parallel_build_trees\n",
            "    tree.fit(X, y, sample_weight=sample_weight, check_input=False)\n",
            "  File \"/usr/local/lib/python3.7/dist-packages/sklearn/tree/_classes.py\", line 1320, in fit\n",
            "    X_idx_sorted=X_idx_sorted,\n",
            "  File \"/usr/local/lib/python3.7/dist-packages/sklearn/tree/_classes.py\", line 316, in fit\n",
            "    max_leaf_nodes\n",
            "ValueError: max_leaf_nodes 0 must be either None or larger than 1\n",
            "\n",
            "--------------------------------------------------------------------------------\n",
            "25 fits failed with the following error:\n",
            "Traceback (most recent call last):\n",
            "  File \"/usr/local/lib/python3.7/dist-packages/sklearn/model_selection/_validation.py\", line 680, in _fit_and_score\n",
            "    estimator.fit(X_train, y_train, **fit_params)\n",
            "  File \"/usr/local/lib/python3.7/dist-packages/sklearn/ensemble/_forest.py\", line 467, in fit\n",
            "    for i, t in enumerate(trees)\n",
            "  File \"/usr/local/lib/python3.7/dist-packages/joblib/parallel.py\", line 1043, in __call__\n",
            "    if self.dispatch_one_batch(iterator):\n",
            "  File \"/usr/local/lib/python3.7/dist-packages/joblib/parallel.py\", line 861, in dispatch_one_batch\n",
            "    self._dispatch(tasks)\n",
            "  File \"/usr/local/lib/python3.7/dist-packages/joblib/parallel.py\", line 779, in _dispatch\n",
            "    job = self._backend.apply_async(batch, callback=cb)\n",
            "  File \"/usr/local/lib/python3.7/dist-packages/joblib/_parallel_backends.py\", line 208, in apply_async\n",
            "    result = ImmediateResult(func)\n",
            "  File \"/usr/local/lib/python3.7/dist-packages/joblib/_parallel_backends.py\", line 572, in __init__\n",
            "    self.results = batch()\n",
            "  File \"/usr/local/lib/python3.7/dist-packages/joblib/parallel.py\", line 263, in __call__\n",
            "    for func, args, kwargs in self.items]\n",
            "  File \"/usr/local/lib/python3.7/dist-packages/joblib/parallel.py\", line 263, in <listcomp>\n",
            "    for func, args, kwargs in self.items]\n",
            "  File \"/usr/local/lib/python3.7/dist-packages/sklearn/utils/fixes.py\", line 216, in __call__\n",
            "    return self.function(*args, **kwargs)\n",
            "  File \"/usr/local/lib/python3.7/dist-packages/sklearn/ensemble/_forest.py\", line 187, in _parallel_build_trees\n",
            "    tree.fit(X, y, sample_weight=sample_weight, check_input=False)\n",
            "  File \"/usr/local/lib/python3.7/dist-packages/sklearn/tree/_classes.py\", line 1320, in fit\n",
            "    X_idx_sorted=X_idx_sorted,\n",
            "  File \"/usr/local/lib/python3.7/dist-packages/sklearn/tree/_classes.py\", line 316, in fit\n",
            "    max_leaf_nodes\n",
            "ValueError: max_leaf_nodes 1 must be either None or larger than 1\n",
            "\n",
            "  warnings.warn(some_fits_failed_message, FitFailedWarning)\n",
            "/usr/local/lib/python3.7/dist-packages/sklearn/model_selection/_search.py:972: UserWarning: One or more of the test scores are non-finite: [       nan        nan        nan        nan        nan        nan\n",
            "        nan        nan        nan        nan 0.19651145 0.19651145\n",
            " 0.19651145 0.19651145 0.19651145 0.74221526 0.74221526 0.74221526\n",
            " 0.74221526 0.74221526 0.79569532 0.79569532 0.79569532 0.79569532\n",
            " 0.79569532 0.85718506 0.85718506 0.85718506 0.85718506 0.85718506\n",
            " 0.88476955 0.88476955 0.88476955 0.88476955 0.88476955 0.91728369\n",
            " 0.91728369 0.91728369 0.91728369 0.91728369 0.92377897 0.92377897\n",
            " 0.92377897 0.92377897 0.92377897 0.92968662 0.92968662 0.92968662\n",
            " 0.92968662 0.92968662 0.93402343 0.93402343 0.93402343 0.93402343\n",
            " 0.93402343 0.9354668  0.9354668  0.9354668  0.9354668  0.9354668\n",
            " 0.93892652 0.93892652 0.93892652 0.93892652 0.93892652 0.94218785\n",
            " 0.94218785 0.94218785 0.94218785 0.94218785 0.94248179 0.94248179\n",
            " 0.94248179 0.94248179 0.94248179 0.94266899 0.94266899 0.94266899\n",
            " 0.94266899 0.94266899 0.94368128 0.94368128 0.94368128 0.94368128\n",
            " 0.94368128 0.94344995 0.94344995 0.94344995 0.94344995 0.94344995\n",
            " 0.94289146 0.94289146 0.94289146 0.94289146 0.94289146 0.94332684\n",
            " 0.94332684 0.94332684 0.94332684 0.94332684]\n",
            "  category=UserWarning,\n"
          ]
        },
        {
          "output_type": "execute_result",
          "data": {
            "text/plain": [
              "GridSearchCV(cv=5,\n",
              "             estimator=RandomForestRegressor(bootstrap=False, random_state=42),\n",
              "             param_grid={'max_leaf_nodes': [0, 1, 2, 3, 4, 5, 6, 7, 8, 9, 10,\n",
              "                                            11, 12, 13, 14, 15, 16, 17, 18,\n",
              "                                            19],\n",
              "                         'n_estimators': [100, 200, 300, 400, 500]},\n",
              "             verbose=1)"
            ]
          },
          "metadata": {},
          "execution_count": 118
        }
      ]
    },
    {
      "cell_type": "code",
      "source": [
        "grid_search.best_params_"
      ],
      "metadata": {
        "id": "n7tVs5DdaxuN",
        "colab": {
          "base_uri": "https://localhost:8080/"
        },
        "outputId": "c3fe3595-657a-4497-9d8c-8dc457f6fe20"
      },
      "execution_count": 119,
      "outputs": [
        {
          "output_type": "execute_result",
          "data": {
            "text/plain": [
              "{'max_leaf_nodes': 16, 'n_estimators': 100}"
            ]
          },
          "metadata": {},
          "execution_count": 119
        }
      ]
    },
    {
      "cell_type": "code",
      "source": [
        "grid_search.best_estimator_"
      ],
      "metadata": {
        "id": "fwuqRL5Ba4pu",
        "colab": {
          "base_uri": "https://localhost:8080/"
        },
        "outputId": "d1da1d50-47e8-4297-e62e-b977ea09d33c"
      },
      "execution_count": 120,
      "outputs": [
        {
          "output_type": "execute_result",
          "data": {
            "text/plain": [
              "RandomForestRegressor(bootstrap=False, max_leaf_nodes=16, random_state=42)"
            ]
          },
          "metadata": {},
          "execution_count": 120
        }
      ]
    },
    {
      "cell_type": "code",
      "source": [
        "forest_best = grid_search.best_estimator_\n",
        "forest_best.score(X_test,y_test)"
      ],
      "metadata": {
        "id": "eZ4-jH2sa489",
        "colab": {
          "base_uri": "https://localhost:8080/"
        },
        "outputId": "fa4217b9-3141-4974-ce0e-b41a8a6e7f36"
      },
      "execution_count": 121,
      "outputs": [
        {
          "output_type": "execute_result",
          "data": {
            "text/plain": [
              "0.9400611445139918"
            ]
          },
          "metadata": {},
          "execution_count": 121
        }
      ]
    },
    {
      "cell_type": "code",
      "source": [
        "y_hat = forest_best.predict(X_test)\n",
        "df[\"forest_best\"]= pd.Series(y_hat)\n",
        "mse = mean_squared_error(y_test,y_hat)\n",
        "rmse = np.sqrt(mse)\n",
        "rmse\n",
        "\n",
        "\n"
      ],
      "metadata": {
        "id": "QvIJgZ9Ta76f",
        "colab": {
          "base_uri": "https://localhost:8080/"
        },
        "outputId": "64b05eae-f794-4e09-c97f-c8f254f2c7bc"
      },
      "execution_count": 122,
      "outputs": [
        {
          "output_type": "execute_result",
          "data": {
            "text/plain": [
              "0.1748998375517267"
            ]
          },
          "metadata": {},
          "execution_count": 122
        }
      ]
    },
    {
      "cell_type": "code",
      "source": [
        "%matplotlib inline\n",
        "plt.figure(figsize=(15,15))\n",
        "plt.scatter(df[\"X_train\"],df[\"y_train\"],label = \"Train\")\n",
        "plt.scatter(df[\"X_train\"],df[\"y_hat_CV\"],label = \"CV pred\" )\n",
        "\n",
        "plt.scatter(df[\"X_test\"],df[\"y_hat\"],label = \"lin-reg pred\" )\n",
        "#plt.scatter(df[\"X_train\"],df[\"y_val_forest\"],color='m',label =\"validation Forest\")\n",
        "\n",
        "plt.scatter(df[\"X_test\"],df[\"y_test\"],label =\"Test\")\n",
        "plt.scatter(df[\"X_test\"],df[\"y_hat_forest\"],color='k',label =\"Forest\")\n",
        "plt.scatter(df[\"X_test\"],df[\"forest_best\"],color='y',label =\"forest_best\")\n",
        "plt.legend()\n",
        "plt.show()\n"
      ],
      "metadata": {
        "colab": {
          "base_uri": "https://localhost:8080/",
          "height": 863
        },
        "id": "lgPoyV4J1VNh",
        "outputId": "306be3ce-e96a-4be6-8d05-75a2525d4679"
      },
      "execution_count": 123,
      "outputs": [
        {
          "output_type": "display_data",
          "data": {
            "text/plain": [
              "<Figure size 1080x1080 with 1 Axes>"
            ],
            "image/png": "[encoded data removed]"
          },
          "metadata": {
            "needs_background": "light"
          }
        }
      ]
    },
    {
      "cell_type": "markdown",
      "source": [
        "## Summary\n",
        "In this test I: \n",
        "\n",
        "\n",
        "\n",
        "1.   Pre-processed the data (Train-Test splits, Noralizing with StandardScalar using a Pipeline) \n",
        "2.   tried to eastimate a noisy sine function with:\n",
        "  *  Linear Regression - As expected, under-fits non-linear function. \n",
        "  *   Random forests estimator - due to its nonlinear capabilities, and thanks to GridSearch CV (hyperparameters optimization) it was possible to get good enough predictions with a sufficient RMSE.\n",
        "\n",
        "\n",
        "\n",
        "\n",
        "\n",
        "\n"
      ],
      "metadata": {
        "id": "2If4oHF9Gmcc"
      }
    }
  ]
}